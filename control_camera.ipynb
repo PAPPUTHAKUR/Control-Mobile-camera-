{
 "cells": [
  {
   "cell_type": "code",
   "execution_count": 4,
   "id": "8957e192",
   "metadata": {},
   "outputs": [],
   "source": [
    "import requests\n",
    "import cv2\n",
    "import numpy as np\n",
    "import imutils"
   ]
  },
  {
   "cell_type": "code",
   "execution_count": 3,
   "id": "478a6245",
   "metadata": {},
   "outputs": [
    {
     "name": "stdout",
     "output_type": "stream",
     "text": [
      "Collecting imutils\n",
      "  Downloading imutils-0.5.4.tar.gz (17 kB)\n",
      "  Preparing metadata (setup.py): started\n",
      "  Preparing metadata (setup.py): finished with status 'done'\n",
      "Building wheels for collected packages: imutils\n",
      "  Building wheel for imutils (setup.py): started\n",
      "  Building wheel for imutils (setup.py): finished with status 'done'\n",
      "  Created wheel for imutils: filename=imutils-0.5.4-py3-none-any.whl size=25847 sha256=3c2da5744e73cb584e8dc7731e33c2f1f1e8772edf5b2827639ac49bb7aba53a\n",
      "  Stored in directory: c:\\users\\amul chourasia\\appdata\\local\\pip\\cache\\wheels\\85\\cf\\3a\\e265e975a1e7c7e54eb3692d6aa4e2e7d6a3945d29da46f2d7\n",
      "Successfully built imutils\n",
      "Installing collected packages: imutils\n",
      "Successfully installed imutils-0.5.4\n",
      "Note: you may need to restart the kernel to use updated packages.\n"
     ]
    }
   ],
   "source": [
    "pip install imutils"
   ]
  },
  {
   "cell_type": "code",
   "execution_count": null,
   "id": "a951dbcb",
   "metadata": {},
   "outputs": [],
   "source": [
    "# 1.Download and install IP webcame application on your mobile Phone.\n",
    "# 2.Make sure PC and Phone connected to same network.\n",
    "# 3.A URL will be displyed after opening app."
   ]
  },
  {
   "cell_type": "code",
   "execution_count": null,
   "id": "7bef4e0a",
   "metadata": {},
   "outputs": [],
   "source": [
    "url = \"https://192.168.0.103:8080/abc.jpg\"\n",
    "while True:\n",
    "    img_res = requests.get(url)\n",
    "    img_arr = np.array(bytearray(img_res.content),dtype=np.uint8)\n",
    "    img = cv2.imdecode(img_arr,-1)\n",
    "    img = imutils.resize(img,width=1000,height=1800)\n",
    "    cv2.imshow(\"MY cam\",img)\n",
    "    if cv2.waitKey(1) == 27:\n",
    "        break\n",
    "cv2.destroyAllWindows()\n",
    "    \n",
    "    "
   ]
  }
 ],
 "metadata": {
  "kernelspec": {
   "display_name": "Python 3 (ipykernel)",
   "language": "python",
   "name": "python3"
  },
  "language_info": {
   "codemirror_mode": {
    "name": "ipython",
    "version": 3
   },
   "file_extension": ".py",
   "mimetype": "text/x-python",
   "name": "python",
   "nbconvert_exporter": "python",
   "pygments_lexer": "ipython3",
   "version": "3.10.6"
  }
 },
 "nbformat": 4,
 "nbformat_minor": 5
}
